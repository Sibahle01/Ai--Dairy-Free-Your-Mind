{
  "nbformat": 4,
  "nbformat_minor": 0,
  "metadata": {
    "colab": {
      "provenance": [],
      "authorship_tag": "ABX9TyMf7chNWxvkeYbstW835ctD",
      "include_colab_link": true
    },
    "kernelspec": {
      "name": "python3",
      "display_name": "Python 3"
    },
    "language_info": {
      "name": "python"
    }
  },
  "cells": [
    {
      "cell_type": "markdown",
      "metadata": {
        "id": "view-in-github",
        "colab_type": "text"
      },
      "source": [
        "<a href=\"https://colab.research.google.com/github/Sibahle01/Ai--Dairy-Free-Your-Mind/blob/main/Ai_Dairy%2C_Free_Your_Mind.ipynb\" target=\"_parent\"><img src=\"https://colab.research.google.com/assets/colab-badge.svg\" alt=\"Open In Colab\"/></a>"
      ]
    },
    {
      "cell_type": "code",
      "execution_count": null,
      "metadata": {
        "id": "IB0xAQlV1uXg"
      },
      "outputs": [],
      "source": [
        "# Core libraries\n",
        "import sqlite3\n",
        "import pandas as pd\n",
        "from json import dumps, loads\n",
        "from dataclasses import dataclass\n",
        "from typing import Optional, Dict, List, Any\n",
        "import logging\n",
        "import time\n",
        "import traceback\n",
        "\n",
        "# NLP\n",
        "from transformers import pipeline\n",
        "\n",
        "# Configure logging\n",
        "logging.basicConfig(level=logging.INFO)\n",
        "logger = logging.getLogger(__name__)"
      ]
    },
    {
      "cell_type": "markdown",
      "source": [
        "#2️⃣ Database Setup"
      ],
      "metadata": {
        "id": "4xdVWx0b4oqs"
      }
    },
    {
      "cell_type": "code",
      "source": [
        "# Initialize SQLite DB\n",
        "conn = sqlite3.connect(\"diary.db\")\n",
        "cursor = conn.cursor()\n",
        "\n",
        "cursor.executescript(\"\"\"\n",
        "CREATE TABLE IF NOT EXISTS users (\n",
        "    user_id INTEGER PRIMARY KEY AUTOINCREMENT,\n",
        "    username TEXT NOT NULL UNIQUE,\n",
        "    created_at TIMESTAMP DEFAULT CURRENT_TIMESTAMP\n",
        ");\n",
        "\n",
        "CREATE TABLE IF NOT EXISTS entries (\n",
        "    entry_id INTEGER PRIMARY KEY AUTOINCREMENT,\n",
        "    user_id INTEGER NOT NULL,\n",
        "    entry_text TEXT NOT NULL,\n",
        "    main_category TEXT NOT NULL,\n",
        "    secondary_category TEXT,\n",
        "    sub_category TEXT,\n",
        "    confidence_scores TEXT,\n",
        "    success BOOLEAN NOT NULL DEFAULT 1,\n",
        "    error_message TEXT,\n",
        "    processing_time REAL,\n",
        "    created_at TIMESTAMP DEFAULT CURRENT_TIMESTAMP,\n",
        "    FOREIGN KEY (user_id) REFERENCES users(user_id)\n",
        ");\n",
        "\n",
        "CREATE TABLE IF NOT EXISTS goals (\n",
        "    goal_id INTEGER PRIMARY KEY AUTOINCREMENT,\n",
        "    user_id INTEGER NOT NULL,\n",
        "    entry_id INTEGER, -- optional link to diary entry where goal was mentioned\n",
        "    goal_text TEXT NOT NULL,\n",
        "    status TEXT DEFAULT 'pending', -- pending | in-progress | completed\n",
        "    created_at TIMESTAMP DEFAULT CURRENT_TIMESTAMP,\n",
        "    completed_at TIMESTAMP,\n",
        "    FOREIGN KEY (user_id) REFERENCES users(user_id),\n",
        "    FOREIGN KEY (entry_id) REFERENCES entries(entry_id)\n",
        ");\n",
        "\n",
        "CREATE TABLE IF NOT EXISTS tags (\n",
        "    tag_id INTEGER PRIMARY KEY AUTOINCREMENT,\n",
        "    entry_id INTEGER NOT NULL,\n",
        "    tag TEXT NOT NULL,\n",
        "    FOREIGN KEY (entry_id) REFERENCES entries(entry_id)\n",
        ");\n",
        "\"\"\")\n",
        "conn.commit()\n",
        "conn.close()"
      ],
      "metadata": {
        "id": "GkmoOSul4inX"
      },
      "execution_count": null,
      "outputs": []
    },
    {
      "cell_type": "markdown",
      "source": [
        "#3️⃣ Classification Setup"
      ],
      "metadata": {
        "id": "EL91hAj04xwC"
      }
    },
    {
      "cell_type": "code",
      "source": [
        "@dataclass\n",
        "class ClassificationResult:\n",
        "    entry: str\n",
        "    main_category: str\n",
        "    secondary_category: Optional[str]\n",
        "    sub_category: Optional[str] = None\n",
        "    confidence_scores: Dict[str, float] = None\n",
        "    processing_time: float = 0.0\n",
        "    success: bool = True\n",
        "    error_message: Optional[str] = None\n",
        "\n",
        "class RobustJournalClassifier:\n",
        "    def __init__(self, min_secondary_confidence=0.25, max_entry_length=5000):\n",
        "        self.min_secondary_confidence = min_secondary_confidence\n",
        "        self.max_entry_length = max_entry_length\n",
        "        self.classifier = pipeline(\"zero-shot-classification\", model=\"facebook/bart-large-mnli\", return_all_scores=True)\n",
        "        self.categories = {\n",
        "            \"Reflection\": \"A personal reflection, insight, or lesson learned\",\n",
        "            \"Goals\": \"A goal or aspiration, including financial goals\",\n",
        "            \"Emotions\": \"An emotion or feeling being expressed\",\n",
        "            \"Plans\": \"A plan, task, or intention for the future\",\n",
        "            \"Relationships\": \"Thoughts, feelings, or experiences about others\",\n",
        "            \"Challenges\": \"A difficulty or problem being faced\",\n",
        "            \"Gratitude\": \"Expression of thankfulness\",\n",
        "            \"Health\": \"Physical or mental wellness, fitness, or medical concerns\"\n",
        "        }\n",
        "\n",
        "    def classify_single(self, entry: str) -> ClassificationResult:\n",
        "        start_time = time.time()\n",
        "        try:\n",
        "            result = self.classifier(entry.strip(), candidate_labels=list(self.categories.values()))\n",
        "            top2_labels = result[\"labels\"][:2]\n",
        "            top2_scores = result[\"scores\"][:2]\n",
        "\n",
        "            mapped_results = [(next((k for k, v in self.categories.items() if v == desc), \"Unknown\"), round(float(score), 3))\n",
        "                              for desc, score in zip(top2_labels, top2_scores)]\n",
        "\n",
        "            secondary_category = mapped_results[1][0] if len(mapped_results) > 1 and mapped_results[1][1] >= self.min_secondary_confidence else None\n",
        "\n",
        "            return ClassificationResult(\n",
        "                entry=entry,\n",
        "                main_category=mapped_results[0][0],\n",
        "                secondary_category=secondary_category,\n",
        "                sub_category=None,\n",
        "                confidence_scores={label: score for label, score in mapped_results},\n",
        "                processing_time=time.time() - start_time\n",
        "            )\n",
        "        except Exception as e:\n",
        "            logger.error(f\"Classification failed: {str(e)}\")\n",
        "            logger.error(traceback.format_exc())\n",
        "            return ClassificationResult(entry=entry, main_category=\"Unknown\", secondary_category=None, sub_category=None,\n",
        "                                        confidence_scores={}, processing_time=time.time() - start_time, success=False,\n",
        "                                        error_message=str(e))"
      ],
      "metadata": {
        "id": "rjWtBByg4ilL"
      },
      "execution_count": null,
      "outputs": []
    },
    {
      "cell_type": "markdown",
      "source": [
        "#📌 Auto-detect & Save Goals"
      ],
      "metadata": {
        "id": "NfvE_AlF9uVF"
      }
    },
    {
      "cell_type": "code",
      "source": [
        "def save_goal_if_applicable(result, db_path=\"diary.db\"):\n",
        "    if result.main_category != \"Goals\":\n",
        "        return\n",
        "\n",
        "    import sqlite3\n",
        "    conn = sqlite3.connect(db_path)\n",
        "    cursor = conn.cursor()\n",
        "\n",
        "    user_id = 1\n",
        "    cursor.execute(\"\"\"\n",
        "    INSERT INTO goals (user_id, goal_text, status)\n",
        "    VALUES (?, ?, ?)\n",
        "    \"\"\", (user_id, result.entry, \"ongoing\"))\n",
        "\n",
        "    conn.commit()\n",
        "    conn.close()\n",
        "    print(f\"✅ Goal saved: {result.entry}\")"
      ],
      "metadata": {
        "id": "fEd9uMkE9rbj"
      },
      "execution_count": null,
      "outputs": []
    },
    {
      "cell_type": "markdown",
      "source": [
        "#📌Auto-update Goal Status\n",
        "If a future entry mentions completion, we update."
      ],
      "metadata": {
        "id": "g5nc9WMC96Y0"
      }
    },
    {
      "cell_type": "code",
      "source": [
        "def update_goal_status(entry_text, db_path=\"diary.db\"):\n",
        "    entry_lower = entry_text.lower()\n",
        "    if \"completed\" in entry_lower or \"achieved\" in entry_lower or \"finally\" in entry_lower:\n",
        "        conn = sqlite3.connect(db_path)\n",
        "        cursor = conn.cursor()\n",
        "\n",
        "        # Update the most recent ongoing goal\n",
        "        cursor.execute(\"\"\"\n",
        "        UPDATE goals\n",
        "        SET status = 'completed', completed_at = CURRENT_TIMESTAMP\n",
        "        WHERE user_id = 1 AND status = 'ongoing'\n",
        "        ORDER BY created_at DESC\n",
        "        LIMIT 1\n",
        "        \"\"\")\n",
        "\n",
        "        conn.commit()\n",
        "        conn.close()\n",
        "        print(\"🎉 Goal marked as completed!\")"
      ],
      "metadata": {
        "id": "nWOFTTKK-Fhp"
      },
      "execution_count": null,
      "outputs": []
    },
    {
      "cell_type": "markdown",
      "source": [
        "#4️⃣ Save to Database"
      ],
      "metadata": {
        "id": "vIK5SPX949B5"
      }
    },
    {
      "cell_type": "code",
      "source": [
        "def save_classification_to_db(result, db_path=\"diary.db\"):\n",
        "    \"\"\"\n",
        "    Save a ClassificationResult object to SQLite database,\n",
        "    including main and secondary categories as tags.\n",
        "    If classified as a Goal, auto-create an entry in the goals table.\n",
        "    \"\"\"\n",
        "    import sqlite3\n",
        "    from json import dumps\n",
        "\n",
        "    conn = sqlite3.connect(db_path)\n",
        "    cursor = conn.cursor()\n",
        "\n",
        "    # Ensure user exists (for now using a single default user)\n",
        "    user_id = 1\n",
        "    cursor.execute(\n",
        "        \"INSERT OR IGNORE INTO users (user_id, username) VALUES (?, ?)\",\n",
        "        (user_id, \"default_user\")\n",
        "    )\n",
        "\n",
        "    # Insert the entry\n",
        "    cursor.execute(\"\"\"\n",
        "    INSERT INTO entries (\n",
        "        user_id, entry_text, main_category, secondary_category, sub_category,\n",
        "        confidence_scores, processing_time, success, error_message\n",
        "    ) VALUES (?, ?, ?, ?, ?, ?, ?, ?, ?)\n",
        "    \"\"\", (\n",
        "        user_id,\n",
        "        result.entry,\n",
        "        result.main_category,\n",
        "        result.secondary_category,\n",
        "        result.sub_category,\n",
        "        dumps(result.confidence_scores),\n",
        "        result.processing_time,\n",
        "        int(result.success),\n",
        "        result.error_message\n",
        "    ))\n",
        "\n",
        "    entry_id = cursor.lastrowid  # Get the ID of the inserted entry\n",
        "\n",
        "    # Insert tags: main category + secondary + subcategory if exists\n",
        "    tags = [result.main_category]\n",
        "    if result.secondary_category:\n",
        "        tags.append(result.secondary_category)\n",
        "    if result.sub_category:\n",
        "        tags.append(result.sub_category)\n",
        "\n",
        "    for tag in tags:\n",
        "        cursor.execute(\"\"\"\n",
        "        INSERT INTO tags (entry_id, tag) VALUES (?, ?)\n",
        "        \"\"\", (entry_id, tag))\n",
        "\n",
        "    # 🔥 If this entry is a Goal → auto add to goals table\n",
        "    if result.main_category == \"Goals\" or result.secondary_category == \"Goals\":\n",
        "        cursor.execute(\"\"\"\n",
        "        INSERT INTO goals (user_id, entry_id, goal_text, status)\n",
        "        VALUES (?, ?, ?, ?)\n",
        "        \"\"\", (user_id, entry_id, result.entry, \"pending\"))\n",
        "        print(f\"🎯 Goal auto-created from entry {entry_id}: {result.entry[:50]}...\")\n",
        "\n",
        "    conn.commit()\n",
        "    conn.close()\n",
        "\n",
        "    print(f\"✅ Entry saved with tags: {tags} -> {result.entry[:50]}{'...' if len(result.entry) > 50 else ''}\")"
      ],
      "metadata": {
        "id": "70eEN1qA45Yn"
      },
      "execution_count": null,
      "outputs": []
    },
    {
      "cell_type": "code",
      "source": [
        "def auto_extract_goal(result, entry_id=None, db_path=\"diary.db\"):\n",
        "    if result.main_category == \"Goals\" or result.secondary_category == \"Goals\":\n",
        "        # Add to goals table\n",
        "        add_goal(result.entry, entry_id=entry_id, status=\"pending\", db_path=db_path)"
      ],
      "metadata": {
        "id": "DURt1dSQ6l_X"
      },
      "execution_count": null,
      "outputs": []
    },
    {
      "cell_type": "code",
      "source": [
        "def add_goal(goal_text, entry_id=None, status=\"pending\", db_path=\"diary.db\"):\n",
        "    conn = sqlite3.connect(db_path)\n",
        "    cursor = conn.cursor()\n",
        "    user_id = 1\n",
        "    cursor.execute(\"\"\"\n",
        "        INSERT INTO goals (user_id, entry_id, goal_text, status)\n",
        "        VALUES (?, ?, ?, ?)\n",
        "    \"\"\", (user_id, entry_id, goal_text, status))\n",
        "    conn.commit()\n",
        "    conn.close()\n",
        "    print(f\"✅ Goal added: {goal_text} (status: {status})\")\n",
        "\n",
        "def update_goal_status(goal_id, status, db_path=\"diary.db\"):\n",
        "    conn = sqlite3.connect(db_path)\n",
        "    cursor = conn.cursor()\n",
        "    completed_at = None\n",
        "    if status == \"completed\":\n",
        "        from datetime import datetime\n",
        "        completed_at = datetime.now().strftime(\"%Y-%m-%d %H:%M:%S\")\n",
        "    cursor.execute(\"\"\"\n",
        "        UPDATE goals\n",
        "        SET status = ?, completed_at = ?\n",
        "        WHERE goal_id = ?\n",
        "    \"\"\", (status, completed_at, goal_id))\n",
        "    conn.commit()\n",
        "    conn.close()\n",
        "    print(f\"🔄 Goal {goal_id} updated to status: {status}\")\n",
        "\n",
        "def get_goals(status=None, db_path=\"diary.db\"):\n",
        "    conn = sqlite3.connect(db_path)\n",
        "    cursor = conn.cursor()\n",
        "    if status:\n",
        "        cursor.execute(\"SELECT goal_id, goal_text, status, created_at, completed_at FROM goals WHERE status=?\", (status,))\n",
        "    else:\n",
        "        cursor.execute(\"SELECT goal_id, goal_text, status, created_at, completed_at FROM goals\")\n",
        "    rows = cursor.fetchall()\n",
        "    conn.close()\n",
        "    return rows"
      ],
      "metadata": {
        "id": "2HjY6bBg6d9x"
      },
      "execution_count": null,
      "outputs": []
    },
    {
      "cell_type": "markdown",
      "source": [
        "#5️⃣ Retrieval & Analysis (Pandas)"
      ],
      "metadata": {
        "id": "94xAbTTR5JV1"
      }
    },
    {
      "cell_type": "code",
      "source": [
        "def load_entries_to_df(db_path=\"diary.db\"):\n",
        "    conn = sqlite3.connect(db_path)\n",
        "    df = pd.read_sql_query(\"\"\"\n",
        "        SELECT e.entry_id, e.entry_text, e.main_category, e.secondary_category, e.sub_category,\n",
        "               e.confidence_scores, e.processing_time, e.success, e.error_message,\n",
        "               e.created_at, GROUP_CONCAT(t.tag) AS tags\n",
        "        FROM entries e\n",
        "        LEFT JOIN tags t ON e.entry_id = t.entry_id\n",
        "        GROUP BY e.entry_id\n",
        "        ORDER BY e.created_at DESC\n",
        "    \"\"\", conn)\n",
        "    conn.close()\n",
        "    if not df.empty:\n",
        "        df[\"confidence_scores\"] = df[\"confidence_scores\"].apply(lambda x: loads(x) if x else {})\n",
        "        df[\"tags\"] = df[\"tags\"].apply(lambda x: x.split(\",\") if x else [])\n",
        "        df[\"success\"] = df[\"success\"].astype(bool)\n",
        "    return df"
      ],
      "metadata": {
        "id": "0qIKF1dl5GP1"
      },
      "execution_count": null,
      "outputs": []
    },
    {
      "cell_type": "code",
      "source": [
        "def diary_stats(df):\n",
        "    stats = {\n",
        "        \"Total Entries\": len(df),\n",
        "        \"By Main Category\": df['main_category'].value_counts().to_dict(),\n",
        "        \"By Secondary Category\": df['secondary_category'].value_counts(dropna=True).to_dict(),\n",
        "        \"By Sub Category\": df['sub_category'].value_counts(dropna=True).to_dict() if 'sub_category' in df else {},\n",
        "        \"By Tag\": pd.Series([t for tags in df['tags'] for t in tags]).value_counts().to_dict()\n",
        "    }\n",
        "    return stats\n",
        "\n",
        "def goal_stats(db_path=\"diary.db\"):\n",
        "    conn = sqlite3.connect(db_path)\n",
        "    df_goals = pd.read_sql_query(\"SELECT * FROM goals\", conn)\n",
        "    conn.close()\n",
        "    if df_goals.empty:\n",
        "        return {\"Total Goals\": 0}\n",
        "    return {\n",
        "        \"Total Goals\": len(df_goals),\n",
        "        \"By Status\": df_goals['status'].value_counts().to_dict(),\n",
        "        \"Completion Rate\": round((df_goals['status'].value_counts().get(\"completed\", 0) / len(df_goals)) * 100, 2)\n",
        "    }"
      ],
      "metadata": {
        "id": "rodcTlpA6t8L"
      },
      "execution_count": null,
      "outputs": []
    },
    {
      "cell_type": "markdown",
      "source": [
        "#📊 Goal Analytics"
      ],
      "metadata": {
        "id": "Ufsfv0C4-SzY"
      }
    },
    {
      "cell_type": "code",
      "source": [
        "def get_goal_stats(db_path=\"diary.db\"):\n",
        "    conn = sqlite3.connect(db_path)\n",
        "    cursor = conn.cursor()\n",
        "\n",
        "    cursor.execute(\"\"\"\n",
        "    SELECT status, COUNT(*)\n",
        "    FROM goals\n",
        "    GROUP BY status\n",
        "    \"\"\")\n",
        "    stats = dict(cursor.fetchall())\n",
        "    conn.close()\n",
        "    return stats\n",
        "\n",
        "print(get_goal_stats())"
      ],
      "metadata": {
        "colab": {
          "base_uri": "https://localhost:8080/"
        },
        "id": "3fkcN1Uz-bSV",
        "outputId": "11d6fbdd-07b2-4697-c3a4-99c996860ebe"
      },
      "execution_count": null,
      "outputs": [
        {
          "output_type": "stream",
          "name": "stdout",
          "text": [
            "{}\n"
          ]
        }
      ]
    },
    {
      "cell_type": "code",
      "source": [
        "import matplotlib.pyplot as plt\n",
        "\n",
        "def plot_entries_by_category(df):\n",
        "    counts = df['main_category'].value_counts()\n",
        "    counts.plot(kind=\"bar\", figsize=(8,5))\n",
        "    plt.title(\"Entries by Main Category\")\n",
        "    plt.xlabel(\"Category\")\n",
        "    plt.ylabel(\"Count\")\n",
        "    plt.show()\n",
        "\n",
        "def plot_goals_by_status(db_path=\"diary.db\"):\n",
        "    conn = sqlite3.connect(db_path)\n",
        "    df_goals = pd.read_sql_query(\"SELECT status, COUNT(*) as count FROM goals GROUP BY status\", conn)\n",
        "    conn.close()\n",
        "    if df_goals.empty:\n",
        "        print(\"No goals found.\")\n",
        "        return\n",
        "    df_goals.set_index(\"status\").plot(kind=\"bar\", legend=False, figsize=(6,4))\n",
        "    plt.title(\"Goals by Status\")\n",
        "    plt.xlabel(\"Status\")\n",
        "    plt.ylabel(\"Count\")\n",
        "    plt.show()\n",
        "\n",
        "def plot_entries_over_time(df):\n",
        "    df[\"created_at\"] = pd.to_datetime(df[\"created_at\"])\n",
        "    timeline = df.groupby(df[\"created_at\"].dt.to_period(\"M\")).size()\n",
        "    timeline.plot(kind=\"line\", marker=\"o\", figsize=(8,5))\n",
        "    plt.title(\"Entries Over Time\")\n",
        "    plt.xlabel(\"Month\")\n",
        "    plt.ylabel(\"Entries\")\n",
        "    plt.show()\n"
      ],
      "metadata": {
        "id": "NrxWOw866v7c"
      },
      "execution_count": null,
      "outputs": []
    },
    {
      "cell_type": "markdown",
      "source": [
        "#Goal Tracking Functions"
      ],
      "metadata": {
        "id": "Av9wSqJJ8z5o"
      }
    },
    {
      "cell_type": "code",
      "source": [
        "def add_goal(goal_text, entry_id=None, status=\"pending\", db_path=\"diary.db\"):\n",
        "    conn = sqlite3.connect(db_path)\n",
        "    cursor = conn.cursor()\n",
        "    user_id = 1\n",
        "    cursor.execute(\"\"\"\n",
        "        INSERT INTO goals (user_id, entry_id, goal_text, status)\n",
        "        VALUES (?, ?, ?, ?)\n",
        "    \"\"\", (user_id, entry_id, goal_text, status))\n",
        "    conn.commit()\n",
        "    conn.close()\n",
        "    print(f\"✅ Goal added: {goal_text} (status: {status})\")\n",
        "\n",
        "def update_goal_status(goal_id, status, db_path=\"diary.db\"):\n",
        "    conn = sqlite3.connect(db_path)\n",
        "    cursor = conn.cursor()\n",
        "    completed_at = None\n",
        "    if status == \"completed\":\n",
        "        from datetime import datetime\n",
        "        completed_at = datetime.now().strftime(\"%Y-%m-%d %H:%M:%S\")\n",
        "    cursor.execute(\"\"\"\n",
        "        UPDATE goals\n",
        "        SET status = ?, completed_at = ?\n",
        "        WHERE goal_id = ?\n",
        "    \"\"\", (status, completed_at, goal_id))\n",
        "    conn.commit()\n",
        "    conn.close()\n",
        "    print(f\"🔄 Goal {goal_id} updated to status: {status}\")\n",
        "\n",
        "def get_goals(status=None, db_path=\"diary.db\"):\n",
        "    conn = sqlite3.connect(db_path)\n",
        "    cursor = conn.cursor()\n",
        "    if status:\n",
        "        cursor.execute(\"SELECT goal_id, goal_text, status, created_at, completed_at FROM goals WHERE status=?\", (status,))\n",
        "    else:\n",
        "        cursor.execute(\"SELECT goal_id, goal_text, status, created_at, completed_at FROM goals\")\n",
        "    rows = cursor.fetchall()\n",
        "    conn.close()\n",
        "    return rows"
      ],
      "metadata": {
        "id": "8i_G1b0l83z1"
      },
      "execution_count": null,
      "outputs": []
    },
    {
      "cell_type": "markdown",
      "source": [
        "#Link Goals from Classifier"
      ],
      "metadata": {
        "id": "vXcn6ZCX89Rx"
      }
    },
    {
      "cell_type": "code",
      "source": [
        "def auto_extract_goal(result, entry_id=None, db_path=\"diary.db\"):\n",
        "    if result.main_category == \"Goals\" or result.secondary_category == \"Goals\":\n",
        "        # Add to goals table\n",
        "        add_goal(result.entry, entry_id=entry_id, status=\"pending\", db_path=db_path)"
      ],
      "metadata": {
        "id": "QINt8cLR8_mE"
      },
      "execution_count": null,
      "outputs": []
    },
    {
      "cell_type": "markdown",
      "source": [
        "# Testing"
      ],
      "metadata": {
        "id": "xetblrUz7Ol0"
      }
    },
    {
      "cell_type": "code",
      "source": [
        "entry_text = \"I want to save R500 this month to build my emergency fund.\"\n",
        "classification_result = classifier.classify_single(entry_text)\n",
        "\n",
        "save_classification_to_db(classification_result)"
      ],
      "metadata": {
        "colab": {
          "base_uri": "https://localhost:8080/",
          "height": 193
        },
        "id": "snNxRrDG7NYq",
        "outputId": "6c417c17-0420-438c-9baf-3c938b1670f9"
      },
      "execution_count": null,
      "outputs": [
        {
          "output_type": "error",
          "ename": "NameError",
          "evalue": "name 'classifier' is not defined",
          "traceback": [
            "\u001b[0;31m---------------------------------------------------------------------------\u001b[0m",
            "\u001b[0;31mNameError\u001b[0m                                 Traceback (most recent call last)",
            "\u001b[0;32m/tmp/ipython-input-1893979411.py\u001b[0m in \u001b[0;36m<cell line: 0>\u001b[0;34m()\u001b[0m\n\u001b[1;32m      1\u001b[0m \u001b[0mentry_text\u001b[0m \u001b[0;34m=\u001b[0m \u001b[0;34m\"I want to save R500 this month to build my emergency fund.\"\u001b[0m\u001b[0;34m\u001b[0m\u001b[0;34m\u001b[0m\u001b[0m\n\u001b[0;32m----> 2\u001b[0;31m \u001b[0mclassification_result\u001b[0m \u001b[0;34m=\u001b[0m \u001b[0mclassifier\u001b[0m\u001b[0;34m.\u001b[0m\u001b[0mclassify_single\u001b[0m\u001b[0;34m(\u001b[0m\u001b[0mentry_text\u001b[0m\u001b[0;34m)\u001b[0m\u001b[0;34m\u001b[0m\u001b[0;34m\u001b[0m\u001b[0m\n\u001b[0m\u001b[1;32m      3\u001b[0m \u001b[0;34m\u001b[0m\u001b[0m\n\u001b[1;32m      4\u001b[0m \u001b[0msave_classification_to_db\u001b[0m\u001b[0;34m(\u001b[0m\u001b[0mclassification_result\u001b[0m\u001b[0;34m)\u001b[0m\u001b[0;34m\u001b[0m\u001b[0;34m\u001b[0m\u001b[0m\n",
            "\u001b[0;31mNameError\u001b[0m: name 'classifier' is not defined"
          ]
        }
      ]
    },
    {
      "cell_type": "markdown",
      "source": [
        "#1️⃣ Define a simple ClassificationResult dataclass"
      ],
      "metadata": {
        "id": "H3GC-m3B7r5b"
      }
    },
    {
      "cell_type": "code",
      "source": [
        "from dataclasses import dataclass\n",
        "import time\n",
        "\n",
        "@dataclass\n",
        "class ClassificationResult:\n",
        "    entry: str\n",
        "    main_category: str\n",
        "    secondary_category: str = None\n",
        "    sub_category: str = None\n",
        "    confidence_scores: dict = None\n",
        "    sub_confidence: float = None\n",
        "    processing_time: float = None\n",
        "    success: bool = True\n",
        "    error_message: str = None"
      ],
      "metadata": {
        "id": "5vRhU3rY7tv9"
      },
      "execution_count": null,
      "outputs": []
    },
    {
      "cell_type": "code",
      "source": [
        "class RobustJournalClassifier:\n",
        "    def __init__(self):\n",
        "        self.categories = [\"Emotions\", \"Goals\", \"Habits\", \"Reflections\"]\n",
        "\n",
        "    def classify_single(self, entry_text: str) -> ClassificationResult:\n",
        "        start = time.time()\n",
        "        entry_lower = entry_text.lower()\n",
        "\n",
        "        # Naive keyword-based classification\n",
        "        if \"goal\" in entry_lower or \"save\" in entry_lower or \"plan\" in entry_lower:\n",
        "            main_category = \"Goals\"\n",
        "            secondary_category = \"Habits\"\n",
        "        elif \"happy\" in entry_lower or \"sad\" in entry_lower or \"anxious\" in entry_lower:\n",
        "            main_category = \"Emotions\"\n",
        "            secondary_category = \"Reflections\"\n",
        "        else:\n",
        "            main_category = \"Reflections\"\n",
        "            secondary_category = None\n",
        "\n",
        "        confidence_scores = {c: (0.7 if c == main_category else 0.1) for c in self.categories}\n",
        "\n",
        "        return ClassificationResult(\n",
        "            entry=entry_text,\n",
        "            main_category=main_category,\n",
        "            secondary_category=secondary_category,\n",
        "            sub_category=None,\n",
        "            confidence_scores=confidence_scores,\n",
        "            processing_time=round(time.time() - start, 3),\n",
        "            success=True,\n",
        "            error_message=None\n",
        "        )"
      ],
      "metadata": {
        "id": "VcAwaoys7wiw"
      },
      "execution_count": null,
      "outputs": []
    },
    {
      "cell_type": "code",
      "source": [
        "classifier = RobustJournalClassifier()\n",
        "\n",
        "entry_text = \"I want to save R500 this month to build my emergency fund.\"\n",
        "classification_result = classifier.classify_single(entry_text)\n",
        "\n",
        "print(classification_result)"
      ],
      "metadata": {
        "colab": {
          "base_uri": "https://localhost:8080/"
        },
        "id": "A3RZD-q370Uw",
        "outputId": "c827207c-655d-4a78-d7c6-31495bdc11d0"
      },
      "execution_count": null,
      "outputs": [
        {
          "output_type": "stream",
          "name": "stdout",
          "text": [
            "ClassificationResult(entry='I want to save R500 this month to build my emergency fund.', main_category='Goals', secondary_category='Habits', sub_category=None, confidence_scores={'Emotions': 0.1, 'Goals': 0.7, 'Habits': 0.1, 'Reflections': 0.1}, sub_confidence=None, processing_time=0.0, success=True, error_message=None)\n"
          ]
        }
      ]
    },
    {
      "cell_type": "markdown",
      "source": [
        "#diary dashboard"
      ],
      "metadata": {
        "id": "noqdbX7s-r7a"
      }
    },
    {
      "cell_type": "code",
      "source": [
        "import sqlite3\n",
        "import pandas as pd\n",
        "\n",
        "def load_goals_to_df(db_path=\"diary.db\"):\n",
        "    conn = sqlite3.connect(db_path)\n",
        "    df = pd.read_sql_query(\"\"\"\n",
        "    SELECT goal_id, goal_text, status, created_at, completed_at\n",
        "    FROM goals\n",
        "    ORDER BY created_at\n",
        "    \"\"\", conn)\n",
        "    conn.close()\n",
        "    return df\n",
        "\n",
        "goals_df = load_goals_to_df()\n",
        "goals_df.head()"
      ],
      "metadata": {
        "colab": {
          "base_uri": "https://localhost:8080/",
          "height": 53
        },
        "id": "ljjqmdtT-w_Y",
        "outputId": "f7236189-41e8-483d-b5b7-10e594b0b437"
      },
      "execution_count": null,
      "outputs": [
        {
          "output_type": "execute_result",
          "data": {
            "text/plain": [
              "Empty DataFrame\n",
              "Columns: [goal_id, goal_text, status, created_at, completed_at]\n",
              "Index: []"
            ],
            "text/html": [
              "\n",
              "  <div id=\"df-ca622813-55ea-4095-bf77-5d64d29a87a7\" class=\"colab-df-container\">\n",
              "    <div>\n",
              "<style scoped>\n",
              "    .dataframe tbody tr th:only-of-type {\n",
              "        vertical-align: middle;\n",
              "    }\n",
              "\n",
              "    .dataframe tbody tr th {\n",
              "        vertical-align: top;\n",
              "    }\n",
              "\n",
              "    .dataframe thead th {\n",
              "        text-align: right;\n",
              "    }\n",
              "</style>\n",
              "<table border=\"1\" class=\"dataframe\">\n",
              "  <thead>\n",
              "    <tr style=\"text-align: right;\">\n",
              "      <th></th>\n",
              "      <th>goal_id</th>\n",
              "      <th>goal_text</th>\n",
              "      <th>status</th>\n",
              "      <th>created_at</th>\n",
              "      <th>completed_at</th>\n",
              "    </tr>\n",
              "  </thead>\n",
              "  <tbody>\n",
              "  </tbody>\n",
              "</table>\n",
              "</div>\n",
              "    <div class=\"colab-df-buttons\">\n",
              "\n",
              "  <div class=\"colab-df-container\">\n",
              "    <button class=\"colab-df-convert\" onclick=\"convertToInteractive('df-ca622813-55ea-4095-bf77-5d64d29a87a7')\"\n",
              "            title=\"Convert this dataframe to an interactive table.\"\n",
              "            style=\"display:none;\">\n",
              "\n",
              "  <svg xmlns=\"http://www.w3.org/2000/svg\" height=\"24px\" viewBox=\"0 -960 960 960\">\n",
              "    <path d=\"M120-120v-720h720v720H120Zm60-500h600v-160H180v160Zm220 220h160v-160H400v160Zm0 220h160v-160H400v160ZM180-400h160v-160H180v160Zm440 0h160v-160H620v160ZM180-180h160v-160H180v160Zm440 0h160v-160H620v160Z\"/>\n",
              "  </svg>\n",
              "    </button>\n",
              "\n",
              "  <style>\n",
              "    .colab-df-container {\n",
              "      display:flex;\n",
              "      gap: 12px;\n",
              "    }\n",
              "\n",
              "    .colab-df-convert {\n",
              "      background-color: #E8F0FE;\n",
              "      border: none;\n",
              "      border-radius: 50%;\n",
              "      cursor: pointer;\n",
              "      display: none;\n",
              "      fill: #1967D2;\n",
              "      height: 32px;\n",
              "      padding: 0 0 0 0;\n",
              "      width: 32px;\n",
              "    }\n",
              "\n",
              "    .colab-df-convert:hover {\n",
              "      background-color: #E2EBFA;\n",
              "      box-shadow: 0px 1px 2px rgba(60, 64, 67, 0.3), 0px 1px 3px 1px rgba(60, 64, 67, 0.15);\n",
              "      fill: #174EA6;\n",
              "    }\n",
              "\n",
              "    .colab-df-buttons div {\n",
              "      margin-bottom: 4px;\n",
              "    }\n",
              "\n",
              "    [theme=dark] .colab-df-convert {\n",
              "      background-color: #3B4455;\n",
              "      fill: #D2E3FC;\n",
              "    }\n",
              "\n",
              "    [theme=dark] .colab-df-convert:hover {\n",
              "      background-color: #434B5C;\n",
              "      box-shadow: 0px 1px 3px 1px rgba(0, 0, 0, 0.15);\n",
              "      filter: drop-shadow(0px 1px 2px rgba(0, 0, 0, 0.3));\n",
              "      fill: #FFFFFF;\n",
              "    }\n",
              "  </style>\n",
              "\n",
              "    <script>\n",
              "      const buttonEl =\n",
              "        document.querySelector('#df-ca622813-55ea-4095-bf77-5d64d29a87a7 button.colab-df-convert');\n",
              "      buttonEl.style.display =\n",
              "        google.colab.kernel.accessAllowed ? 'block' : 'none';\n",
              "\n",
              "      async function convertToInteractive(key) {\n",
              "        const element = document.querySelector('#df-ca622813-55ea-4095-bf77-5d64d29a87a7');\n",
              "        const dataTable =\n",
              "          await google.colab.kernel.invokeFunction('convertToInteractive',\n",
              "                                                    [key], {});\n",
              "        if (!dataTable) return;\n",
              "\n",
              "        const docLinkHtml = 'Like what you see? Visit the ' +\n",
              "          '<a target=\"_blank\" href=https://colab.research.google.com/notebooks/data_table.ipynb>data table notebook</a>'\n",
              "          + ' to learn more about interactive tables.';\n",
              "        element.innerHTML = '';\n",
              "        dataTable['output_type'] = 'display_data';\n",
              "        await google.colab.output.renderOutput(dataTable, element);\n",
              "        const docLink = document.createElement('div');\n",
              "        docLink.innerHTML = docLinkHtml;\n",
              "        element.appendChild(docLink);\n",
              "      }\n",
              "    </script>\n",
              "  </div>\n",
              "\n",
              "\n",
              "    </div>\n",
              "  </div>\n"
            ],
            "application/vnd.google.colaboratory.intrinsic+json": {
              "type": "dataframe",
              "variable_name": "goals_df",
              "repr_error": "Out of range float values are not JSON compliant: nan"
            }
          },
          "metadata": {},
          "execution_count": 21
        }
      ]
    },
    {
      "cell_type": "code",
      "source": [
        "import matplotlib.pyplot as plt\n",
        "\n",
        "def plot_goal_status(goals_df):\n",
        "    status_counts = goals_df['status'].value_counts()\n",
        "    plt.figure(figsize=(6,4))\n",
        "    status_counts.plot(kind='bar', color=['orange','green','red'])\n",
        "    plt.title(\"Goal Status Distribution\")\n",
        "    plt.xlabel(\"Status\")\n",
        "    plt.ylabel(\"Number of Goals\")\n",
        "    plt.show()\n",
        "\n",
        "plot_goal_status(goals_df)"
      ],
      "metadata": {
        "colab": {
          "base_uri": "https://localhost:8080/",
          "height": 700
        },
        "id": "k8D2x6Hd-2mr",
        "outputId": "fec2e676-0c23-48d5-c2e2-f610c6b897b8"
      },
      "execution_count": null,
      "outputs": [
        {
          "output_type": "error",
          "ename": "IndexError",
          "evalue": "index 0 is out of bounds for axis 0 with size 0",
          "traceback": [
            "\u001b[0;31m---------------------------------------------------------------------------\u001b[0m",
            "\u001b[0;31mIndexError\u001b[0m                                Traceback (most recent call last)",
            "\u001b[0;32m/tmp/ipython-input-2649122203.py\u001b[0m in \u001b[0;36m<cell line: 0>\u001b[0;34m()\u001b[0m\n\u001b[1;32m     10\u001b[0m     \u001b[0mplt\u001b[0m\u001b[0;34m.\u001b[0m\u001b[0mshow\u001b[0m\u001b[0;34m(\u001b[0m\u001b[0;34m)\u001b[0m\u001b[0;34m\u001b[0m\u001b[0;34m\u001b[0m\u001b[0m\n\u001b[1;32m     11\u001b[0m \u001b[0;34m\u001b[0m\u001b[0m\n\u001b[0;32m---> 12\u001b[0;31m \u001b[0mplot_goal_status\u001b[0m\u001b[0;34m(\u001b[0m\u001b[0mgoals_df\u001b[0m\u001b[0;34m)\u001b[0m\u001b[0;34m\u001b[0m\u001b[0;34m\u001b[0m\u001b[0m\n\u001b[0m",
            "\u001b[0;32m/tmp/ipython-input-2649122203.py\u001b[0m in \u001b[0;36mplot_goal_status\u001b[0;34m(goals_df)\u001b[0m\n\u001b[1;32m      4\u001b[0m     \u001b[0mstatus_counts\u001b[0m \u001b[0;34m=\u001b[0m \u001b[0mgoals_df\u001b[0m\u001b[0;34m[\u001b[0m\u001b[0;34m'status'\u001b[0m\u001b[0;34m]\u001b[0m\u001b[0;34m.\u001b[0m\u001b[0mvalue_counts\u001b[0m\u001b[0;34m(\u001b[0m\u001b[0;34m)\u001b[0m\u001b[0;34m\u001b[0m\u001b[0;34m\u001b[0m\u001b[0m\n\u001b[1;32m      5\u001b[0m     \u001b[0mplt\u001b[0m\u001b[0;34m.\u001b[0m\u001b[0mfigure\u001b[0m\u001b[0;34m(\u001b[0m\u001b[0mfigsize\u001b[0m\u001b[0;34m=\u001b[0m\u001b[0;34m(\u001b[0m\u001b[0;36m6\u001b[0m\u001b[0;34m,\u001b[0m\u001b[0;36m4\u001b[0m\u001b[0;34m)\u001b[0m\u001b[0;34m)\u001b[0m\u001b[0;34m\u001b[0m\u001b[0;34m\u001b[0m\u001b[0m\n\u001b[0;32m----> 6\u001b[0;31m     \u001b[0mstatus_counts\u001b[0m\u001b[0;34m.\u001b[0m\u001b[0mplot\u001b[0m\u001b[0;34m(\u001b[0m\u001b[0mkind\u001b[0m\u001b[0;34m=\u001b[0m\u001b[0;34m'bar'\u001b[0m\u001b[0;34m,\u001b[0m \u001b[0mcolor\u001b[0m\u001b[0;34m=\u001b[0m\u001b[0;34m[\u001b[0m\u001b[0;34m'orange'\u001b[0m\u001b[0;34m,\u001b[0m\u001b[0;34m'green'\u001b[0m\u001b[0;34m,\u001b[0m\u001b[0;34m'red'\u001b[0m\u001b[0;34m]\u001b[0m\u001b[0;34m)\u001b[0m\u001b[0;34m\u001b[0m\u001b[0;34m\u001b[0m\u001b[0m\n\u001b[0m\u001b[1;32m      7\u001b[0m     \u001b[0mplt\u001b[0m\u001b[0;34m.\u001b[0m\u001b[0mtitle\u001b[0m\u001b[0;34m(\u001b[0m\u001b[0;34m\"Goal Status Distribution\"\u001b[0m\u001b[0;34m)\u001b[0m\u001b[0;34m\u001b[0m\u001b[0;34m\u001b[0m\u001b[0m\n\u001b[1;32m      8\u001b[0m     \u001b[0mplt\u001b[0m\u001b[0;34m.\u001b[0m\u001b[0mxlabel\u001b[0m\u001b[0;34m(\u001b[0m\u001b[0;34m\"Status\"\u001b[0m\u001b[0;34m)\u001b[0m\u001b[0;34m\u001b[0m\u001b[0;34m\u001b[0m\u001b[0m\n",
            "\u001b[0;32m/usr/local/lib/python3.12/dist-packages/pandas/plotting/_core.py\u001b[0m in \u001b[0;36m__call__\u001b[0;34m(self, *args, **kwargs)\u001b[0m\n\u001b[1;32m   1028\u001b[0m                     \u001b[0mdata\u001b[0m\u001b[0;34m.\u001b[0m\u001b[0mcolumns\u001b[0m \u001b[0;34m=\u001b[0m \u001b[0mlabel_name\u001b[0m\u001b[0;34m\u001b[0m\u001b[0;34m\u001b[0m\u001b[0m\n\u001b[1;32m   1029\u001b[0m \u001b[0;34m\u001b[0m\u001b[0m\n\u001b[0;32m-> 1030\u001b[0;31m         \u001b[0;32mreturn\u001b[0m \u001b[0mplot_backend\u001b[0m\u001b[0;34m.\u001b[0m\u001b[0mplot\u001b[0m\u001b[0;34m(\u001b[0m\u001b[0mdata\u001b[0m\u001b[0;34m,\u001b[0m \u001b[0mkind\u001b[0m\u001b[0;34m=\u001b[0m\u001b[0mkind\u001b[0m\u001b[0;34m,\u001b[0m \u001b[0;34m**\u001b[0m\u001b[0mkwargs\u001b[0m\u001b[0;34m)\u001b[0m\u001b[0;34m\u001b[0m\u001b[0;34m\u001b[0m\u001b[0m\n\u001b[0m\u001b[1;32m   1031\u001b[0m \u001b[0;34m\u001b[0m\u001b[0m\n\u001b[1;32m   1032\u001b[0m     \u001b[0m__call__\u001b[0m\u001b[0;34m.\u001b[0m\u001b[0m__doc__\u001b[0m \u001b[0;34m=\u001b[0m \u001b[0m__doc__\u001b[0m\u001b[0;34m\u001b[0m\u001b[0;34m\u001b[0m\u001b[0m\n",
            "\u001b[0;32m/usr/local/lib/python3.12/dist-packages/pandas/plotting/_matplotlib/__init__.py\u001b[0m in \u001b[0;36mplot\u001b[0;34m(data, kind, **kwargs)\u001b[0m\n\u001b[1;32m     69\u001b[0m             \u001b[0mkwargs\u001b[0m\u001b[0;34m[\u001b[0m\u001b[0;34m\"ax\"\u001b[0m\u001b[0;34m]\u001b[0m \u001b[0;34m=\u001b[0m \u001b[0mgetattr\u001b[0m\u001b[0;34m(\u001b[0m\u001b[0max\u001b[0m\u001b[0;34m,\u001b[0m \u001b[0;34m\"left_ax\"\u001b[0m\u001b[0;34m,\u001b[0m \u001b[0max\u001b[0m\u001b[0;34m)\u001b[0m\u001b[0;34m\u001b[0m\u001b[0;34m\u001b[0m\u001b[0m\n\u001b[1;32m     70\u001b[0m     \u001b[0mplot_obj\u001b[0m \u001b[0;34m=\u001b[0m \u001b[0mPLOT_CLASSES\u001b[0m\u001b[0;34m[\u001b[0m\u001b[0mkind\u001b[0m\u001b[0;34m]\u001b[0m\u001b[0;34m(\u001b[0m\u001b[0mdata\u001b[0m\u001b[0;34m,\u001b[0m \u001b[0;34m**\u001b[0m\u001b[0mkwargs\u001b[0m\u001b[0;34m)\u001b[0m\u001b[0;34m\u001b[0m\u001b[0;34m\u001b[0m\u001b[0m\n\u001b[0;32m---> 71\u001b[0;31m     \u001b[0mplot_obj\u001b[0m\u001b[0;34m.\u001b[0m\u001b[0mgenerate\u001b[0m\u001b[0;34m(\u001b[0m\u001b[0;34m)\u001b[0m\u001b[0;34m\u001b[0m\u001b[0;34m\u001b[0m\u001b[0m\n\u001b[0m\u001b[1;32m     72\u001b[0m     \u001b[0mplot_obj\u001b[0m\u001b[0;34m.\u001b[0m\u001b[0mdraw\u001b[0m\u001b[0;34m(\u001b[0m\u001b[0;34m)\u001b[0m\u001b[0;34m\u001b[0m\u001b[0;34m\u001b[0m\u001b[0m\n\u001b[1;32m     73\u001b[0m     \u001b[0;32mreturn\u001b[0m \u001b[0mplot_obj\u001b[0m\u001b[0;34m.\u001b[0m\u001b[0mresult\u001b[0m\u001b[0;34m\u001b[0m\u001b[0;34m\u001b[0m\u001b[0m\n",
            "\u001b[0;32m/usr/local/lib/python3.12/dist-packages/pandas/plotting/_matplotlib/core.py\u001b[0m in \u001b[0;36mgenerate\u001b[0;34m(self)\u001b[0m\n\u001b[1;32m    506\u001b[0m         \u001b[0;32mfor\u001b[0m \u001b[0max\u001b[0m \u001b[0;32min\u001b[0m \u001b[0mself\u001b[0m\u001b[0;34m.\u001b[0m\u001b[0maxes\u001b[0m\u001b[0;34m:\u001b[0m\u001b[0;34m\u001b[0m\u001b[0;34m\u001b[0m\u001b[0m\n\u001b[1;32m    507\u001b[0m             \u001b[0mself\u001b[0m\u001b[0;34m.\u001b[0m\u001b[0m_post_plot_logic_common\u001b[0m\u001b[0;34m(\u001b[0m\u001b[0max\u001b[0m\u001b[0;34m)\u001b[0m\u001b[0;34m\u001b[0m\u001b[0;34m\u001b[0m\u001b[0m\n\u001b[0;32m--> 508\u001b[0;31m             \u001b[0mself\u001b[0m\u001b[0;34m.\u001b[0m\u001b[0m_post_plot_logic\u001b[0m\u001b[0;34m(\u001b[0m\u001b[0max\u001b[0m\u001b[0;34m,\u001b[0m \u001b[0mself\u001b[0m\u001b[0;34m.\u001b[0m\u001b[0mdata\u001b[0m\u001b[0;34m)\u001b[0m\u001b[0;34m\u001b[0m\u001b[0;34m\u001b[0m\u001b[0m\n\u001b[0m\u001b[1;32m    509\u001b[0m \u001b[0;34m\u001b[0m\u001b[0m\n\u001b[1;32m    510\u001b[0m     \u001b[0;34m@\u001b[0m\u001b[0mfinal\u001b[0m\u001b[0;34m\u001b[0m\u001b[0;34m\u001b[0m\u001b[0m\n",
            "\u001b[0;32m/usr/local/lib/python3.12/dist-packages/pandas/plotting/_matplotlib/core.py\u001b[0m in \u001b[0;36m_post_plot_logic\u001b[0;34m(self, ax, data)\u001b[0m\n\u001b[1;32m   1964\u001b[0m             \u001b[0mstr_index\u001b[0m \u001b[0;34m=\u001b[0m \u001b[0;34m[\u001b[0m\u001b[0mpprint_thing\u001b[0m\u001b[0;34m(\u001b[0m\u001b[0mkey\u001b[0m\u001b[0;34m)\u001b[0m \u001b[0;32mfor\u001b[0m \u001b[0mkey\u001b[0m \u001b[0;32min\u001b[0m \u001b[0mrange\u001b[0m\u001b[0;34m(\u001b[0m\u001b[0mdata\u001b[0m\u001b[0;34m.\u001b[0m\u001b[0mshape\u001b[0m\u001b[0;34m[\u001b[0m\u001b[0;36m0\u001b[0m\u001b[0;34m]\u001b[0m\u001b[0;34m)\u001b[0m\u001b[0;34m]\u001b[0m\u001b[0;34m\u001b[0m\u001b[0;34m\u001b[0m\u001b[0m\n\u001b[1;32m   1965\u001b[0m \u001b[0;34m\u001b[0m\u001b[0m\n\u001b[0;32m-> 1966\u001b[0;31m         \u001b[0ms_edge\u001b[0m \u001b[0;34m=\u001b[0m \u001b[0mself\u001b[0m\u001b[0;34m.\u001b[0m\u001b[0max_pos\u001b[0m\u001b[0;34m[\u001b[0m\u001b[0;36m0\u001b[0m\u001b[0;34m]\u001b[0m \u001b[0;34m-\u001b[0m \u001b[0;36m0.25\u001b[0m \u001b[0;34m+\u001b[0m \u001b[0mself\u001b[0m\u001b[0;34m.\u001b[0m\u001b[0mlim_offset\u001b[0m\u001b[0;34m\u001b[0m\u001b[0;34m\u001b[0m\u001b[0m\n\u001b[0m\u001b[1;32m   1967\u001b[0m         \u001b[0me_edge\u001b[0m \u001b[0;34m=\u001b[0m \u001b[0mself\u001b[0m\u001b[0;34m.\u001b[0m\u001b[0max_pos\u001b[0m\u001b[0;34m[\u001b[0m\u001b[0;34m-\u001b[0m\u001b[0;36m1\u001b[0m\u001b[0;34m]\u001b[0m \u001b[0;34m+\u001b[0m \u001b[0;36m0.25\u001b[0m \u001b[0;34m+\u001b[0m \u001b[0mself\u001b[0m\u001b[0;34m.\u001b[0m\u001b[0mbar_width\u001b[0m \u001b[0;34m+\u001b[0m \u001b[0mself\u001b[0m\u001b[0;34m.\u001b[0m\u001b[0mlim_offset\u001b[0m\u001b[0;34m\u001b[0m\u001b[0;34m\u001b[0m\u001b[0m\n\u001b[1;32m   1968\u001b[0m \u001b[0;34m\u001b[0m\u001b[0m\n",
            "\u001b[0;31mIndexError\u001b[0m: index 0 is out of bounds for axis 0 with size 0"
          ]
        },
        {
          "output_type": "display_data",
          "data": {
            "text/plain": [
              "<Figure size 600x400 with 1 Axes>"
            ],
            "image/png": "[encoded data removed]"
          },
          "metadata": {}
        }
      ]
    },
    {
      "cell_type": "code",
      "source": [
        "def plot_entries_over_time(db_path=\"diary.db\"):\n",
        "    conn = sqlite3.connect(db_path)\n",
        "    df = pd.read_sql_query(\"\"\"\n",
        "    SELECT created_at FROM entries\n",
        "    \"\"\", conn)\n",
        "    conn.close()\n",
        "\n",
        "    df['created_at'] = pd.to_datetime(df['created_at'])\n",
        "    df['month'] = df['created_at'].dt.to_period('M')\n",
        "\n",
        "    monthly_counts = df['month'].value_counts().sort_index()\n",
        "\n",
        "    plt.figure(figsize=(8,4))\n",
        "    monthly_counts.plot(kind='line', marker='o')\n",
        "    plt.title(\"Diary Entries Over Time\")\n",
        "    plt.xlabel(\"Month\")\n",
        "    plt.ylabel(\"Number of Entries\")\n",
        "    plt.show()\n",
        "\n",
        "plot_entries_over_time()"
      ],
      "metadata": {
        "colab": {
          "base_uri": "https://localhost:8080/",
          "height": 688
        },
        "id": "1qNaBGZ1-5RW",
        "outputId": "b5d1eb6f-975b-4469-b171-fe9cba4025dd"
      },
      "execution_count": null,
      "outputs": [
        {
          "output_type": "error",
          "ename": "ValueError",
          "evalue": "zero-size array to reduction operation fmin which has no identity",
          "traceback": [
            "\u001b[0;31m---------------------------------------------------------------------------\u001b[0m",
            "\u001b[0;31mValueError\u001b[0m                                Traceback (most recent call last)",
            "\u001b[0;32m/tmp/ipython-input-1555226261.py\u001b[0m in \u001b[0;36m<cell line: 0>\u001b[0;34m()\u001b[0m\n\u001b[1;32m     18\u001b[0m     \u001b[0mplt\u001b[0m\u001b[0;34m.\u001b[0m\u001b[0mshow\u001b[0m\u001b[0;34m(\u001b[0m\u001b[0;34m)\u001b[0m\u001b[0;34m\u001b[0m\u001b[0;34m\u001b[0m\u001b[0m\n\u001b[1;32m     19\u001b[0m \u001b[0;34m\u001b[0m\u001b[0m\n\u001b[0;32m---> 20\u001b[0;31m \u001b[0mplot_entries_over_time\u001b[0m\u001b[0;34m(\u001b[0m\u001b[0;34m)\u001b[0m\u001b[0;34m\u001b[0m\u001b[0;34m\u001b[0m\u001b[0m\n\u001b[0m",
            "\u001b[0;32m/tmp/ipython-input-1555226261.py\u001b[0m in \u001b[0;36mplot_entries_over_time\u001b[0;34m(db_path)\u001b[0m\n\u001b[1;32m     12\u001b[0m \u001b[0;34m\u001b[0m\u001b[0m\n\u001b[1;32m     13\u001b[0m     \u001b[0mplt\u001b[0m\u001b[0;34m.\u001b[0m\u001b[0mfigure\u001b[0m\u001b[0;34m(\u001b[0m\u001b[0mfigsize\u001b[0m\u001b[0;34m=\u001b[0m\u001b[0;34m(\u001b[0m\u001b[0;36m8\u001b[0m\u001b[0;34m,\u001b[0m\u001b[0;36m4\u001b[0m\u001b[0;34m)\u001b[0m\u001b[0;34m)\u001b[0m\u001b[0;34m\u001b[0m\u001b[0;34m\u001b[0m\u001b[0m\n\u001b[0;32m---> 14\u001b[0;31m     \u001b[0mmonthly_counts\u001b[0m\u001b[0;34m.\u001b[0m\u001b[0mplot\u001b[0m\u001b[0;34m(\u001b[0m\u001b[0mkind\u001b[0m\u001b[0;34m=\u001b[0m\u001b[0;34m'line'\u001b[0m\u001b[0;34m,\u001b[0m \u001b[0mmarker\u001b[0m\u001b[0;34m=\u001b[0m\u001b[0;34m'o'\u001b[0m\u001b[0;34m)\u001b[0m\u001b[0;34m\u001b[0m\u001b[0;34m\u001b[0m\u001b[0m\n\u001b[0m\u001b[1;32m     15\u001b[0m     \u001b[0mplt\u001b[0m\u001b[0;34m.\u001b[0m\u001b[0mtitle\u001b[0m\u001b[0;34m(\u001b[0m\u001b[0;34m\"Diary Entries Over Time\"\u001b[0m\u001b[0;34m)\u001b[0m\u001b[0;34m\u001b[0m\u001b[0;34m\u001b[0m\u001b[0m\n\u001b[1;32m     16\u001b[0m     \u001b[0mplt\u001b[0m\u001b[0;34m.\u001b[0m\u001b[0mxlabel\u001b[0m\u001b[0;34m(\u001b[0m\u001b[0;34m\"Month\"\u001b[0m\u001b[0;34m)\u001b[0m\u001b[0;34m\u001b[0m\u001b[0;34m\u001b[0m\u001b[0m\n",
            "\u001b[0;32m/usr/local/lib/python3.12/dist-packages/pandas/plotting/_core.py\u001b[0m in \u001b[0;36m__call__\u001b[0;34m(self, *args, **kwargs)\u001b[0m\n\u001b[1;32m   1028\u001b[0m                     \u001b[0mdata\u001b[0m\u001b[0;34m.\u001b[0m\u001b[0mcolumns\u001b[0m \u001b[0;34m=\u001b[0m \u001b[0mlabel_name\u001b[0m\u001b[0;34m\u001b[0m\u001b[0;34m\u001b[0m\u001b[0m\n\u001b[1;32m   1029\u001b[0m \u001b[0;34m\u001b[0m\u001b[0m\n\u001b[0;32m-> 1030\u001b[0;31m         \u001b[0;32mreturn\u001b[0m \u001b[0mplot_backend\u001b[0m\u001b[0;34m.\u001b[0m\u001b[0mplot\u001b[0m\u001b[0;34m(\u001b[0m\u001b[0mdata\u001b[0m\u001b[0;34m,\u001b[0m \u001b[0mkind\u001b[0m\u001b[0;34m=\u001b[0m\u001b[0mkind\u001b[0m\u001b[0;34m,\u001b[0m \u001b[0;34m**\u001b[0m\u001b[0mkwargs\u001b[0m\u001b[0;34m)\u001b[0m\u001b[0;34m\u001b[0m\u001b[0;34m\u001b[0m\u001b[0m\n\u001b[0m\u001b[1;32m   1031\u001b[0m \u001b[0;34m\u001b[0m\u001b[0m\n\u001b[1;32m   1032\u001b[0m     \u001b[0m__call__\u001b[0m\u001b[0;34m.\u001b[0m\u001b[0m__doc__\u001b[0m \u001b[0;34m=\u001b[0m \u001b[0m__doc__\u001b[0m\u001b[0;34m\u001b[0m\u001b[0;34m\u001b[0m\u001b[0m\n",
            "\u001b[0;32m/usr/local/lib/python3.12/dist-packages/pandas/plotting/_matplotlib/__init__.py\u001b[0m in \u001b[0;36mplot\u001b[0;34m(data, kind, **kwargs)\u001b[0m\n\u001b[1;32m     69\u001b[0m             \u001b[0mkwargs\u001b[0m\u001b[0;34m[\u001b[0m\u001b[0;34m\"ax\"\u001b[0m\u001b[0;34m]\u001b[0m \u001b[0;34m=\u001b[0m \u001b[0mgetattr\u001b[0m\u001b[0;34m(\u001b[0m\u001b[0max\u001b[0m\u001b[0;34m,\u001b[0m \u001b[0;34m\"left_ax\"\u001b[0m\u001b[0;34m,\u001b[0m \u001b[0max\u001b[0m\u001b[0;34m)\u001b[0m\u001b[0;34m\u001b[0m\u001b[0;34m\u001b[0m\u001b[0m\n\u001b[1;32m     70\u001b[0m     \u001b[0mplot_obj\u001b[0m \u001b[0;34m=\u001b[0m \u001b[0mPLOT_CLASSES\u001b[0m\u001b[0;34m[\u001b[0m\u001b[0mkind\u001b[0m\u001b[0;34m]\u001b[0m\u001b[0;34m(\u001b[0m\u001b[0mdata\u001b[0m\u001b[0;34m,\u001b[0m \u001b[0;34m**\u001b[0m\u001b[0mkwargs\u001b[0m\u001b[0;34m)\u001b[0m\u001b[0;34m\u001b[0m\u001b[0;34m\u001b[0m\u001b[0m\n\u001b[0;32m---> 71\u001b[0;31m     \u001b[0mplot_obj\u001b[0m\u001b[0;34m.\u001b[0m\u001b[0mgenerate\u001b[0m\u001b[0;34m(\u001b[0m\u001b[0;34m)\u001b[0m\u001b[0;34m\u001b[0m\u001b[0;34m\u001b[0m\u001b[0m\n\u001b[0m\u001b[1;32m     72\u001b[0m     \u001b[0mplot_obj\u001b[0m\u001b[0;34m.\u001b[0m\u001b[0mdraw\u001b[0m\u001b[0;34m(\u001b[0m\u001b[0;34m)\u001b[0m\u001b[0;34m\u001b[0m\u001b[0;34m\u001b[0m\u001b[0m\n\u001b[1;32m     73\u001b[0m     \u001b[0;32mreturn\u001b[0m \u001b[0mplot_obj\u001b[0m\u001b[0;34m.\u001b[0m\u001b[0mresult\u001b[0m\u001b[0;34m\u001b[0m\u001b[0;34m\u001b[0m\u001b[0m\n",
            "\u001b[0;32m/usr/local/lib/python3.12/dist-packages/pandas/plotting/_matplotlib/core.py\u001b[0m in \u001b[0;36mgenerate\u001b[0;34m(self)\u001b[0m\n\u001b[1;32m    499\u001b[0m         \u001b[0mself\u001b[0m\u001b[0;34m.\u001b[0m\u001b[0m_compute_plot_data\u001b[0m\u001b[0;34m(\u001b[0m\u001b[0;34m)\u001b[0m\u001b[0;34m\u001b[0m\u001b[0;34m\u001b[0m\u001b[0m\n\u001b[1;32m    500\u001b[0m         \u001b[0mfig\u001b[0m \u001b[0;34m=\u001b[0m \u001b[0mself\u001b[0m\u001b[0;34m.\u001b[0m\u001b[0mfig\u001b[0m\u001b[0;34m\u001b[0m\u001b[0;34m\u001b[0m\u001b[0m\n\u001b[0;32m--> 501\u001b[0;31m         \u001b[0mself\u001b[0m\u001b[0;34m.\u001b[0m\u001b[0m_make_plot\u001b[0m\u001b[0;34m(\u001b[0m\u001b[0mfig\u001b[0m\u001b[0;34m)\u001b[0m\u001b[0;34m\u001b[0m\u001b[0;34m\u001b[0m\u001b[0m\n\u001b[0m\u001b[1;32m    502\u001b[0m         \u001b[0mself\u001b[0m\u001b[0;34m.\u001b[0m\u001b[0m_add_table\u001b[0m\u001b[0;34m(\u001b[0m\u001b[0;34m)\u001b[0m\u001b[0;34m\u001b[0m\u001b[0;34m\u001b[0m\u001b[0m\n\u001b[1;32m    503\u001b[0m         \u001b[0mself\u001b[0m\u001b[0;34m.\u001b[0m\u001b[0m_make_legend\u001b[0m\u001b[0;34m(\u001b[0m\u001b[0;34m)\u001b[0m\u001b[0;34m\u001b[0m\u001b[0;34m\u001b[0m\u001b[0m\n",
            "\u001b[0;32m/usr/local/lib/python3.12/dist-packages/pandas/plotting/_matplotlib/core.py\u001b[0m in \u001b[0;36m_make_plot\u001b[0;34m(self, fig)\u001b[0m\n\u001b[1;32m   1558\u001b[0m                 \u001b[0;31m# TODO: GH28021, should find a way to change view limit on xaxis\u001b[0m\u001b[0;34m\u001b[0m\u001b[0;34m\u001b[0m\u001b[0m\n\u001b[1;32m   1559\u001b[0m                 \u001b[0mlines\u001b[0m \u001b[0;34m=\u001b[0m \u001b[0mget_all_lines\u001b[0m\u001b[0;34m(\u001b[0m\u001b[0max\u001b[0m\u001b[0;34m)\u001b[0m\u001b[0;34m\u001b[0m\u001b[0;34m\u001b[0m\u001b[0m\n\u001b[0;32m-> 1560\u001b[0;31m                 \u001b[0mleft\u001b[0m\u001b[0;34m,\u001b[0m \u001b[0mright\u001b[0m \u001b[0;34m=\u001b[0m \u001b[0mget_xlim\u001b[0m\u001b[0;34m(\u001b[0m\u001b[0mlines\u001b[0m\u001b[0;34m)\u001b[0m\u001b[0;34m\u001b[0m\u001b[0;34m\u001b[0m\u001b[0m\n\u001b[0m\u001b[1;32m   1561\u001b[0m                 \u001b[0max\u001b[0m\u001b[0;34m.\u001b[0m\u001b[0mset_xlim\u001b[0m\u001b[0;34m(\u001b[0m\u001b[0mleft\u001b[0m\u001b[0;34m,\u001b[0m \u001b[0mright\u001b[0m\u001b[0;34m)\u001b[0m\u001b[0;34m\u001b[0m\u001b[0;34m\u001b[0m\u001b[0m\n\u001b[1;32m   1562\u001b[0m \u001b[0;34m\u001b[0m\u001b[0m\n",
            "\u001b[0;32m/usr/local/lib/python3.12/dist-packages/pandas/plotting/_matplotlib/tools.py\u001b[0m in \u001b[0;36mget_xlim\u001b[0;34m(lines)\u001b[0m\n\u001b[1;32m    488\u001b[0m     \u001b[0;32mfor\u001b[0m \u001b[0mline\u001b[0m \u001b[0;32min\u001b[0m \u001b[0mlines\u001b[0m\u001b[0;34m:\u001b[0m\u001b[0;34m\u001b[0m\u001b[0;34m\u001b[0m\u001b[0m\n\u001b[1;32m    489\u001b[0m         \u001b[0mx\u001b[0m \u001b[0;34m=\u001b[0m \u001b[0mline\u001b[0m\u001b[0;34m.\u001b[0m\u001b[0mget_xdata\u001b[0m\u001b[0;34m(\u001b[0m\u001b[0morig\u001b[0m\u001b[0;34m=\u001b[0m\u001b[0;32mFalse\u001b[0m\u001b[0;34m)\u001b[0m\u001b[0;34m\u001b[0m\u001b[0;34m\u001b[0m\u001b[0m\n\u001b[0;32m--> 490\u001b[0;31m         \u001b[0mleft\u001b[0m \u001b[0;34m=\u001b[0m \u001b[0mmin\u001b[0m\u001b[0;34m(\u001b[0m\u001b[0mnp\u001b[0m\u001b[0;34m.\u001b[0m\u001b[0mnanmin\u001b[0m\u001b[0;34m(\u001b[0m\u001b[0mx\u001b[0m\u001b[0;34m)\u001b[0m\u001b[0;34m,\u001b[0m \u001b[0mleft\u001b[0m\u001b[0;34m)\u001b[0m\u001b[0;34m\u001b[0m\u001b[0;34m\u001b[0m\u001b[0m\n\u001b[0m\u001b[1;32m    491\u001b[0m         \u001b[0mright\u001b[0m \u001b[0;34m=\u001b[0m \u001b[0mmax\u001b[0m\u001b[0;34m(\u001b[0m\u001b[0mnp\u001b[0m\u001b[0;34m.\u001b[0m\u001b[0mnanmax\u001b[0m\u001b[0;34m(\u001b[0m\u001b[0mx\u001b[0m\u001b[0;34m)\u001b[0m\u001b[0;34m,\u001b[0m \u001b[0mright\u001b[0m\u001b[0;34m)\u001b[0m\u001b[0;34m\u001b[0m\u001b[0;34m\u001b[0m\u001b[0m\n\u001b[1;32m    492\u001b[0m     \u001b[0;32mreturn\u001b[0m \u001b[0mleft\u001b[0m\u001b[0;34m,\u001b[0m \u001b[0mright\u001b[0m\u001b[0;34m\u001b[0m\u001b[0;34m\u001b[0m\u001b[0m\n",
            "\u001b[0;32m/usr/local/lib/python3.12/dist-packages/numpy/lib/_nanfunctions_impl.py\u001b[0m in \u001b[0;36mnanmin\u001b[0;34m(a, axis, out, keepdims, initial, where)\u001b[0m\n\u001b[1;32m    358\u001b[0m         \u001b[0;31m# Fast, but not safe for subclasses of ndarray, or object arrays,\u001b[0m\u001b[0;34m\u001b[0m\u001b[0;34m\u001b[0m\u001b[0m\n\u001b[1;32m    359\u001b[0m         \u001b[0;31m# which do not implement isnan (gh-9009), or fmin correctly (gh-8975)\u001b[0m\u001b[0;34m\u001b[0m\u001b[0;34m\u001b[0m\u001b[0m\n\u001b[0;32m--> 360\u001b[0;31m         \u001b[0mres\u001b[0m \u001b[0;34m=\u001b[0m \u001b[0mnp\u001b[0m\u001b[0;34m.\u001b[0m\u001b[0mfmin\u001b[0m\u001b[0;34m.\u001b[0m\u001b[0mreduce\u001b[0m\u001b[0;34m(\u001b[0m\u001b[0ma\u001b[0m\u001b[0;34m,\u001b[0m \u001b[0maxis\u001b[0m\u001b[0;34m=\u001b[0m\u001b[0maxis\u001b[0m\u001b[0;34m,\u001b[0m \u001b[0mout\u001b[0m\u001b[0;34m=\u001b[0m\u001b[0mout\u001b[0m\u001b[0;34m,\u001b[0m \u001b[0;34m**\u001b[0m\u001b[0mkwargs\u001b[0m\u001b[0;34m)\u001b[0m\u001b[0;34m\u001b[0m\u001b[0;34m\u001b[0m\u001b[0m\n\u001b[0m\u001b[1;32m    361\u001b[0m         \u001b[0;32mif\u001b[0m \u001b[0mnp\u001b[0m\u001b[0;34m.\u001b[0m\u001b[0misnan\u001b[0m\u001b[0;34m(\u001b[0m\u001b[0mres\u001b[0m\u001b[0;34m)\u001b[0m\u001b[0;34m.\u001b[0m\u001b[0many\u001b[0m\u001b[0;34m(\u001b[0m\u001b[0;34m)\u001b[0m\u001b[0;34m:\u001b[0m\u001b[0;34m\u001b[0m\u001b[0;34m\u001b[0m\u001b[0m\n\u001b[1;32m    362\u001b[0m             warnings.warn(\"All-NaN slice encountered\", RuntimeWarning,\n",
            "\u001b[0;31mValueError\u001b[0m: zero-size array to reduction operation fmin which has no identity"
          ]
        },
        {
          "output_type": "display_data",
          "data": {
            "text/plain": [
              "<Figure size 800x400 with 1 Axes>"
            ],
            "image/png": "[encoded data removed]"
          },
          "metadata": {}
        }
      ]
    },
    {
      "cell_type": "code",
      "source": [
        "def plot_goal_completion_time(goals_df):\n",
        "    df = goals_df.dropna(subset=['completed_at']).copy()\n",
        "    if df.empty:\n",
        "        print(\"⚠️ No completed goals yet.\")\n",
        "        return\n",
        "\n",
        "    df['created_at'] = pd.to_datetime(df['created_at'])\n",
        "    df['completed_at'] = pd.to_datetime(df['completed_at'])\n",
        "    df['completion_days'] = (df['completed_at'] - df['created_at']).dt.days\n",
        "\n",
        "    plt.figure(figsize=(6,4))\n",
        "    df['completion_days'].hist(bins=10, color=\"skyblue\", edgecolor=\"black\")\n",
        "    plt.title(\"Goal Completion Time (days)\")\n",
        "    plt.xlabel(\"Days to Complete\")\n",
        "    plt.ylabel(\"Number of Goals\")\n",
        "    plt.show()\n",
        "\n",
        "plot_goal_completion_time(goals_df)\n"
      ],
      "metadata": {
        "colab": {
          "base_uri": "https://localhost:8080/"
        },
        "id": "Z_cR-owK-79c",
        "outputId": "3735b443-92a3-4bde-a102-c6f86eb6fbaa"
      },
      "execution_count": null,
      "outputs": [
        {
          "output_type": "stream",
          "name": "stdout",
          "text": [
            "⚠️ No completed goals yet.\n"
          ]
        }
      ]
    }
  ]
}